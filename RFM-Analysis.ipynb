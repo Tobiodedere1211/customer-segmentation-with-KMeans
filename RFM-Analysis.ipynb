{
 "cells": [
  {
   "cell_type": "markdown",
   "id": "e4c91ef7",
   "metadata": {},
   "source": [
    "# Customer Segmentation Using KMeans (RFM Analysis)"
   ]
  },
  {
   "cell_type": "markdown",
   "id": "07d96cf4",
   "metadata": {},
   "source": [
    "A comprehensive customer analysis that applies K-means algorithms to customer data using three key \n",
    "features such as Frequency, Recency, and Monetary value (RFM) to group customers and understand their \n",
    "purchasing behavior based on these three key features. This helps the business conduct customer-centric \n",
    "marketing more effectively."
   ]
  },
  {
   "cell_type": "markdown",
   "id": "9f8bfa3f",
   "metadata": {},
   "source": [
    "**About The Dataset**:\n",
    "\n",
    "This Online Retail II data set contains all the transactions occurring for a UK-based and registered, non-store online retail between 01/12/2009 and 09/12/2011.The company mainly sells unique all-occasion gift-ware. Many customers of the company are wholesalers.\n",
    "\n",
    "**Variable Information**:\n",
    "- **InvoiceNo**: Invoice number. Nominal. A 6-digit integral number uniquely assigned to each transaction. If this code starts with the letter 'c', it indicates a cancellation\n",
    "- **StockCode**: Product (item) code. Nominal. A 5-digit integral number uniquely assigned to each distinct product.\n",
    "- **Description**: Product (item) name. Nominal.\n",
    "- **Quantity**: The quantities of each product (item) per transaction. Numeric.\n",
    "- **InvoiceDate**: Invice date and time. Numeric. The day and time when a transaction was generated.\n",
    "- **UnitPrice**: Unit price. Numeric. Product price per unit in sterling (Â£).\n",
    "- **CustomerID**: Customer number. Nominal. A 5-digit integral number uniquely assigned to each customer.\n",
    "- **Country**: Country name. Nominal. The name of the country where a customer resides."
   ]
  },
  {
   "cell_type": "code",
   "execution_count": 1,
   "id": "8d0564fa",
   "metadata": {},
   "outputs": [],
   "source": [
    "import pandas as pd\n",
    "import numpy as np\n",
    "\n",
    "import matplotlib.pyplot as plt\n",
    "import seaborn as sns\n",
    "\n",
    "from sklearn.cluster import KMeans\n",
    "from sklearn.metrics import silhouette_score\n",
    "from sklearn.preprocessing import StandardScaler\n",
    "\n",
    "\n",
    "\n",
    "#settings to make numbers easier to read on display\n",
    "pd.set_option('display.float_format', lambda x: \"%.4f\" %x)\n",
    "\n",
    "import warnings\n",
    "\n",
    "warnings.filterwarnings('ignore')\n",
    "\n",
    "%matplotlib inline"
   ]
  },
  {
   "cell_type": "markdown",
   "id": "e727cb48",
   "metadata": {},
   "source": [
    "### Prepare Data"
   ]
  },
  {
   "cell_type": "markdown",
   "id": "ea992cee",
   "metadata": {},
   "source": [
    "#### Import"
   ]
  },
  {
   "cell_type": "code",
   "execution_count": 2,
   "id": "0487fd19",
   "metadata": {},
   "outputs": [],
   "source": [
    "def wrangle(filepath:str):\n",
    "    # Read file into dataframe\n",
    "    df = pd.read_excel(filepath, sheet_name=0)\n",
    "\n",
    "    return df"
   ]
  },
  {
   "cell_type": "markdown",
   "id": "26f451f2",
   "metadata": {},
   "source": [
    "#### Explore"
   ]
  },
  {
   "cell_type": "code",
   "execution_count": 3,
   "id": "fa7ceacd",
   "metadata": {},
   "outputs": [
    {
     "name": "stdout",
     "output_type": "stream",
     "text": [
      "(525461, 8)\n",
      "<class 'pandas.core.frame.DataFrame'>\n",
      "RangeIndex: 525461 entries, 0 to 525460\n",
      "Data columns (total 8 columns):\n",
      " #   Column       Non-Null Count   Dtype         \n",
      "---  ------       --------------   -----         \n",
      " 0   Invoice      525461 non-null  object        \n",
      " 1   StockCode    525461 non-null  object        \n",
      " 2   Description  522533 non-null  object        \n",
      " 3   Quantity     525461 non-null  int64         \n",
      " 4   InvoiceDate  525461 non-null  datetime64[ns]\n",
      " 5   Price        525461 non-null  float64       \n",
      " 6   Customer ID  417534 non-null  float64       \n",
      " 7   Country      525461 non-null  object        \n",
      "dtypes: datetime64[ns](1), float64(2), int64(1), object(4)\n",
      "memory usage: 32.1+ MB\n",
      "None\n"
     ]
    }
   ],
   "source": [
    "df = wrangle(\"online_retail_II.xlsx\")\n",
    "print(df.shape)\n",
    "print(df.info())"
   ]
  },
  {
   "cell_type": "code",
   "execution_count": 4,
   "id": "c8a3ae95",
   "metadata": {},
   "outputs": [
    {
     "data": {
      "text/html": [
       "<div>\n",
       "<style scoped>\n",
       "    .dataframe tbody tr th:only-of-type {\n",
       "        vertical-align: middle;\n",
       "    }\n",
       "\n",
       "    .dataframe tbody tr th {\n",
       "        vertical-align: top;\n",
       "    }\n",
       "\n",
       "    .dataframe thead th {\n",
       "        text-align: right;\n",
       "    }\n",
       "</style>\n",
       "<table border=\"1\" class=\"dataframe\">\n",
       "  <thead>\n",
       "    <tr style=\"text-align: right;\">\n",
       "      <th></th>\n",
       "      <th>Quantity</th>\n",
       "      <th>Price</th>\n",
       "    </tr>\n",
       "  </thead>\n",
       "  <tbody>\n",
       "    <tr>\n",
       "      <th>count</th>\n",
       "      <td>525461.0000</td>\n",
       "      <td>525461.0000</td>\n",
       "    </tr>\n",
       "    <tr>\n",
       "      <th>mean</th>\n",
       "      <td>10.3377</td>\n",
       "      <td>4.6888</td>\n",
       "    </tr>\n",
       "    <tr>\n",
       "      <th>min</th>\n",
       "      <td>-9600.0000</td>\n",
       "      <td>-53594.3600</td>\n",
       "    </tr>\n",
       "    <tr>\n",
       "      <th>25%</th>\n",
       "      <td>1.0000</td>\n",
       "      <td>1.2500</td>\n",
       "    </tr>\n",
       "    <tr>\n",
       "      <th>50%</th>\n",
       "      <td>3.0000</td>\n",
       "      <td>2.1000</td>\n",
       "    </tr>\n",
       "    <tr>\n",
       "      <th>75%</th>\n",
       "      <td>10.0000</td>\n",
       "      <td>4.2100</td>\n",
       "    </tr>\n",
       "    <tr>\n",
       "      <th>max</th>\n",
       "      <td>19152.0000</td>\n",
       "      <td>25111.0900</td>\n",
       "    </tr>\n",
       "    <tr>\n",
       "      <th>std</th>\n",
       "      <td>107.4241</td>\n",
       "      <td>146.1269</td>\n",
       "    </tr>\n",
       "  </tbody>\n",
       "</table>\n",
       "</div>"
      ],
      "text/plain": [
       "         Quantity       Price\n",
       "count 525461.0000 525461.0000\n",
       "mean      10.3377      4.6888\n",
       "min    -9600.0000 -53594.3600\n",
       "25%        1.0000      1.2500\n",
       "50%        3.0000      2.1000\n",
       "75%       10.0000      4.2100\n",
       "max    19152.0000  25111.0900\n",
       "std      107.4241    146.1269"
      ]
     },
     "execution_count": 4,
     "metadata": {},
     "output_type": "execute_result"
    }
   ],
   "source": [
    "# Statistiscal information\n",
    "df.describe()[['Quantity', 'Price']]"
   ]
  },
  {
   "cell_type": "code",
   "execution_count": 5,
   "id": "9999c3d8",
   "metadata": {},
   "outputs": [
    {
     "data": {
      "text/plain": [
       "Invoice             0\n",
       "StockCode           0\n",
       "Description      2928\n",
       "Quantity            0\n",
       "InvoiceDate         0\n",
       "Price               0\n",
       "Customer ID    107927\n",
       "Country             0\n",
       "dtype: int64"
      ]
     },
     "execution_count": 5,
     "metadata": {},
     "output_type": "execute_result"
    }
   ],
   "source": [
    "# check for missing value\n",
    "df.isna().sum()"
   ]
  },
  {
   "cell_type": "markdown",
   "id": "15343e74",
   "metadata": {},
   "source": [
    "Things we need to deal wIth:\n",
    "- Notice how Quantity and Price columns have negative value\n",
    "- The id column has missing values"
   ]
  },
  {
   "cell_type": "markdown",
   "id": "4fa63519",
   "metadata": {},
   "source": [
    "Looking at data where we have missing value"
   ]
  },
  {
   "cell_type": "code",
   "execution_count": 6,
   "id": "3a59f095",
   "metadata": {},
   "outputs": [
    {
     "data": {
      "text/html": [
       "<div>\n",
       "<style scoped>\n",
       "    .dataframe tbody tr th:only-of-type {\n",
       "        vertical-align: middle;\n",
       "    }\n",
       "\n",
       "    .dataframe tbody tr th {\n",
       "        vertical-align: top;\n",
       "    }\n",
       "\n",
       "    .dataframe thead th {\n",
       "        text-align: right;\n",
       "    }\n",
       "</style>\n",
       "<table border=\"1\" class=\"dataframe\">\n",
       "  <thead>\n",
       "    <tr style=\"text-align: right;\">\n",
       "      <th></th>\n",
       "      <th>Invoice</th>\n",
       "      <th>StockCode</th>\n",
       "      <th>Description</th>\n",
       "      <th>Quantity</th>\n",
       "      <th>InvoiceDate</th>\n",
       "      <th>Price</th>\n",
       "      <th>Customer ID</th>\n",
       "      <th>Country</th>\n",
       "    </tr>\n",
       "  </thead>\n",
       "  <tbody>\n",
       "    <tr>\n",
       "      <th>263</th>\n",
       "      <td>489464</td>\n",
       "      <td>21733</td>\n",
       "      <td>85123a mixed</td>\n",
       "      <td>-96</td>\n",
       "      <td>2009-12-01 10:52:00</td>\n",
       "      <td>0.0000</td>\n",
       "      <td>NaN</td>\n",
       "      <td>United Kingdom</td>\n",
       "    </tr>\n",
       "    <tr>\n",
       "      <th>283</th>\n",
       "      <td>489463</td>\n",
       "      <td>71477</td>\n",
       "      <td>short</td>\n",
       "      <td>-240</td>\n",
       "      <td>2009-12-01 10:52:00</td>\n",
       "      <td>0.0000</td>\n",
       "      <td>NaN</td>\n",
       "      <td>United Kingdom</td>\n",
       "    </tr>\n",
       "    <tr>\n",
       "      <th>284</th>\n",
       "      <td>489467</td>\n",
       "      <td>85123A</td>\n",
       "      <td>21733 mixed</td>\n",
       "      <td>-192</td>\n",
       "      <td>2009-12-01 10:53:00</td>\n",
       "      <td>0.0000</td>\n",
       "      <td>NaN</td>\n",
       "      <td>United Kingdom</td>\n",
       "    </tr>\n",
       "    <tr>\n",
       "      <th>470</th>\n",
       "      <td>489521</td>\n",
       "      <td>21646</td>\n",
       "      <td>NaN</td>\n",
       "      <td>-50</td>\n",
       "      <td>2009-12-01 11:44:00</td>\n",
       "      <td>0.0000</td>\n",
       "      <td>NaN</td>\n",
       "      <td>United Kingdom</td>\n",
       "    </tr>\n",
       "    <tr>\n",
       "      <th>577</th>\n",
       "      <td>489525</td>\n",
       "      <td>85226C</td>\n",
       "      <td>BLUE PULL BACK RACING CAR</td>\n",
       "      <td>1</td>\n",
       "      <td>2009-12-01 11:49:00</td>\n",
       "      <td>0.5500</td>\n",
       "      <td>NaN</td>\n",
       "      <td>United Kingdom</td>\n",
       "    </tr>\n",
       "    <tr>\n",
       "      <th>578</th>\n",
       "      <td>489525</td>\n",
       "      <td>85227</td>\n",
       "      <td>SET/6 3D KIT CARDS FOR KIDS</td>\n",
       "      <td>1</td>\n",
       "      <td>2009-12-01 11:49:00</td>\n",
       "      <td>0.8500</td>\n",
       "      <td>NaN</td>\n",
       "      <td>United Kingdom</td>\n",
       "    </tr>\n",
       "    <tr>\n",
       "      <th>1055</th>\n",
       "      <td>489548</td>\n",
       "      <td>22271</td>\n",
       "      <td>FELTCRAFT DOLL ROSIE</td>\n",
       "      <td>1</td>\n",
       "      <td>2009-12-01 12:32:00</td>\n",
       "      <td>2.9500</td>\n",
       "      <td>NaN</td>\n",
       "      <td>United Kingdom</td>\n",
       "    </tr>\n",
       "    <tr>\n",
       "      <th>1056</th>\n",
       "      <td>489548</td>\n",
       "      <td>22254</td>\n",
       "      <td>FELT TOADSTOOL LARGE</td>\n",
       "      <td>12</td>\n",
       "      <td>2009-12-01 12:32:00</td>\n",
       "      <td>1.2500</td>\n",
       "      <td>NaN</td>\n",
       "      <td>United Kingdom</td>\n",
       "    </tr>\n",
       "    <tr>\n",
       "      <th>1057</th>\n",
       "      <td>489548</td>\n",
       "      <td>22273</td>\n",
       "      <td>FELTCRAFT DOLL MOLLY</td>\n",
       "      <td>3</td>\n",
       "      <td>2009-12-01 12:32:00</td>\n",
       "      <td>2.9500</td>\n",
       "      <td>NaN</td>\n",
       "      <td>United Kingdom</td>\n",
       "    </tr>\n",
       "    <tr>\n",
       "      <th>1058</th>\n",
       "      <td>489548</td>\n",
       "      <td>22195</td>\n",
       "      <td>LARGE HEART MEASURING SPOONS</td>\n",
       "      <td>1</td>\n",
       "      <td>2009-12-01 12:32:00</td>\n",
       "      <td>1.6500</td>\n",
       "      <td>NaN</td>\n",
       "      <td>United Kingdom</td>\n",
       "    </tr>\n",
       "  </tbody>\n",
       "</table>\n",
       "</div>"
      ],
      "text/plain": [
       "     Invoice StockCode                   Description  Quantity  \\\n",
       "263   489464     21733                  85123a mixed       -96   \n",
       "283   489463     71477                         short      -240   \n",
       "284   489467    85123A                   21733 mixed      -192   \n",
       "470   489521     21646                           NaN       -50   \n",
       "577   489525    85226C     BLUE PULL BACK RACING CAR         1   \n",
       "578   489525     85227   SET/6 3D KIT CARDS FOR KIDS         1   \n",
       "1055  489548     22271          FELTCRAFT DOLL ROSIE         1   \n",
       "1056  489548     22254          FELT TOADSTOOL LARGE        12   \n",
       "1057  489548     22273          FELTCRAFT DOLL MOLLY         3   \n",
       "1058  489548     22195  LARGE HEART MEASURING SPOONS         1   \n",
       "\n",
       "             InvoiceDate  Price  Customer ID         Country  \n",
       "263  2009-12-01 10:52:00 0.0000          NaN  United Kingdom  \n",
       "283  2009-12-01 10:52:00 0.0000          NaN  United Kingdom  \n",
       "284  2009-12-01 10:53:00 0.0000          NaN  United Kingdom  \n",
       "470  2009-12-01 11:44:00 0.0000          NaN  United Kingdom  \n",
       "577  2009-12-01 11:49:00 0.5500          NaN  United Kingdom  \n",
       "578  2009-12-01 11:49:00 0.8500          NaN  United Kingdom  \n",
       "1055 2009-12-01 12:32:00 2.9500          NaN  United Kingdom  \n",
       "1056 2009-12-01 12:32:00 1.2500          NaN  United Kingdom  \n",
       "1057 2009-12-01 12:32:00 2.9500          NaN  United Kingdom  \n",
       "1058 2009-12-01 12:32:00 1.6500          NaN  United Kingdom  "
      ]
     },
     "execution_count": 6,
     "metadata": {},
     "output_type": "execute_result"
    }
   ],
   "source": [
    "df[df[\"Customer ID\"].isna()].head(10)"
   ]
  },
  {
   "cell_type": "markdown",
   "id": "7f7aa632",
   "metadata": {},
   "source": [
    "Notice how rows with null \"Customer Id\" has prices with negative values, 0, or a value slightly greater than 0. We are going to remove cutomer_id rows with null values in our wrangle function."
   ]
  },
  {
   "cell_type": "markdown",
   "id": "1bb9e0e9",
   "metadata": {},
   "source": [
    "**Looking at the rows with negative values for the quantity column**"
   ]
  },
  {
   "cell_type": "code",
   "execution_count": 7,
   "id": "710ae164",
   "metadata": {},
   "outputs": [
    {
     "name": "stdout",
     "output_type": "stream",
     "text": [
      "shape:  (12326, 8)\n"
     ]
    },
    {
     "data": {
      "text/html": [
       "<div>\n",
       "<style scoped>\n",
       "    .dataframe tbody tr th:only-of-type {\n",
       "        vertical-align: middle;\n",
       "    }\n",
       "\n",
       "    .dataframe tbody tr th {\n",
       "        vertical-align: top;\n",
       "    }\n",
       "\n",
       "    .dataframe thead th {\n",
       "        text-align: right;\n",
       "    }\n",
       "</style>\n",
       "<table border=\"1\" class=\"dataframe\">\n",
       "  <thead>\n",
       "    <tr style=\"text-align: right;\">\n",
       "      <th></th>\n",
       "      <th>Invoice</th>\n",
       "      <th>StockCode</th>\n",
       "      <th>Description</th>\n",
       "      <th>Quantity</th>\n",
       "      <th>InvoiceDate</th>\n",
       "      <th>Price</th>\n",
       "      <th>Customer ID</th>\n",
       "      <th>Country</th>\n",
       "    </tr>\n",
       "  </thead>\n",
       "  <tbody>\n",
       "    <tr>\n",
       "      <th>178</th>\n",
       "      <td>C489449</td>\n",
       "      <td>22087</td>\n",
       "      <td>PAPER BUNTING WHITE LACE</td>\n",
       "      <td>-12</td>\n",
       "      <td>2009-12-01 10:33:00</td>\n",
       "      <td>2.9500</td>\n",
       "      <td>16321.0000</td>\n",
       "      <td>Australia</td>\n",
       "    </tr>\n",
       "    <tr>\n",
       "      <th>179</th>\n",
       "      <td>C489449</td>\n",
       "      <td>85206A</td>\n",
       "      <td>CREAM FELT EASTER EGG BASKET</td>\n",
       "      <td>-6</td>\n",
       "      <td>2009-12-01 10:33:00</td>\n",
       "      <td>1.6500</td>\n",
       "      <td>16321.0000</td>\n",
       "      <td>Australia</td>\n",
       "    </tr>\n",
       "    <tr>\n",
       "      <th>180</th>\n",
       "      <td>C489449</td>\n",
       "      <td>21895</td>\n",
       "      <td>POTTING SHED SOW 'N' GROW SET</td>\n",
       "      <td>-4</td>\n",
       "      <td>2009-12-01 10:33:00</td>\n",
       "      <td>4.2500</td>\n",
       "      <td>16321.0000</td>\n",
       "      <td>Australia</td>\n",
       "    </tr>\n",
       "    <tr>\n",
       "      <th>181</th>\n",
       "      <td>C489449</td>\n",
       "      <td>21896</td>\n",
       "      <td>POTTING SHED TWINE</td>\n",
       "      <td>-6</td>\n",
       "      <td>2009-12-01 10:33:00</td>\n",
       "      <td>2.1000</td>\n",
       "      <td>16321.0000</td>\n",
       "      <td>Australia</td>\n",
       "    </tr>\n",
       "    <tr>\n",
       "      <th>182</th>\n",
       "      <td>C489449</td>\n",
       "      <td>22083</td>\n",
       "      <td>PAPER CHAIN KIT RETRO SPOT</td>\n",
       "      <td>-12</td>\n",
       "      <td>2009-12-01 10:33:00</td>\n",
       "      <td>2.9500</td>\n",
       "      <td>16321.0000</td>\n",
       "      <td>Australia</td>\n",
       "    </tr>\n",
       "  </tbody>\n",
       "</table>\n",
       "</div>"
      ],
      "text/plain": [
       "     Invoice StockCode                    Description  Quantity  \\\n",
       "178  C489449     22087       PAPER BUNTING WHITE LACE       -12   \n",
       "179  C489449    85206A   CREAM FELT EASTER EGG BASKET        -6   \n",
       "180  C489449     21895  POTTING SHED SOW 'N' GROW SET        -4   \n",
       "181  C489449     21896             POTTING SHED TWINE        -6   \n",
       "182  C489449     22083     PAPER CHAIN KIT RETRO SPOT       -12   \n",
       "\n",
       "            InvoiceDate  Price  Customer ID    Country  \n",
       "178 2009-12-01 10:33:00 2.9500   16321.0000  Australia  \n",
       "179 2009-12-01 10:33:00 1.6500   16321.0000  Australia  \n",
       "180 2009-12-01 10:33:00 4.2500   16321.0000  Australia  \n",
       "181 2009-12-01 10:33:00 2.1000   16321.0000  Australia  \n",
       "182 2009-12-01 10:33:00 2.9500   16321.0000  Australia  "
      ]
     },
     "execution_count": 7,
     "metadata": {},
     "output_type": "execute_result"
    }
   ],
   "source": [
    "print(\"shape: \", df[df[\"Quantity\"] < 0].shape)\n",
    "df[df[\"Quantity\"] < 0].head()"
   ]
  },
  {
   "cell_type": "code",
   "execution_count": 8,
   "id": "6673e45f",
   "metadata": {},
   "outputs": [
    {
     "data": {
      "text/plain": [
       "Invoice\n",
       "C    10205\n",
       "Name: count, dtype: int64"
      ]
     },
     "execution_count": 8,
     "metadata": {},
     "output_type": "execute_result"
    }
   ],
   "source": [
    "df[df[\"Quantity\"] < 0]['Invoice'].str.replace(\"[0-9]\", \"\", regex=True).value_counts()"
   ]
  },
  {
   "cell_type": "code",
   "execution_count": 9,
   "id": "0df26c81",
   "metadata": {},
   "outputs": [
    {
     "data": {
      "text/html": [
       "<div>\n",
       "<style scoped>\n",
       "    .dataframe tbody tr th:only-of-type {\n",
       "        vertical-align: middle;\n",
       "    }\n",
       "\n",
       "    .dataframe tbody tr th {\n",
       "        vertical-align: top;\n",
       "    }\n",
       "\n",
       "    .dataframe thead th {\n",
       "        text-align: right;\n",
       "    }\n",
       "</style>\n",
       "<table border=\"1\" class=\"dataframe\">\n",
       "  <thead>\n",
       "    <tr style=\"text-align: right;\">\n",
       "      <th></th>\n",
       "      <th>Invoice</th>\n",
       "      <th>StockCode</th>\n",
       "      <th>Description</th>\n",
       "      <th>Quantity</th>\n",
       "      <th>InvoiceDate</th>\n",
       "      <th>Price</th>\n",
       "      <th>Customer ID</th>\n",
       "      <th>Country</th>\n",
       "    </tr>\n",
       "  </thead>\n",
       "  <tbody>\n",
       "    <tr>\n",
       "      <th>178</th>\n",
       "      <td>C489449</td>\n",
       "      <td>22087</td>\n",
       "      <td>PAPER BUNTING WHITE LACE</td>\n",
       "      <td>-12</td>\n",
       "      <td>2009-12-01 10:33:00</td>\n",
       "      <td>2.9500</td>\n",
       "      <td>16321.0000</td>\n",
       "      <td>Australia</td>\n",
       "    </tr>\n",
       "    <tr>\n",
       "      <th>179</th>\n",
       "      <td>C489449</td>\n",
       "      <td>85206A</td>\n",
       "      <td>CREAM FELT EASTER EGG BASKET</td>\n",
       "      <td>-6</td>\n",
       "      <td>2009-12-01 10:33:00</td>\n",
       "      <td>1.6500</td>\n",
       "      <td>16321.0000</td>\n",
       "      <td>Australia</td>\n",
       "    </tr>\n",
       "    <tr>\n",
       "      <th>180</th>\n",
       "      <td>C489449</td>\n",
       "      <td>21895</td>\n",
       "      <td>POTTING SHED SOW 'N' GROW SET</td>\n",
       "      <td>-4</td>\n",
       "      <td>2009-12-01 10:33:00</td>\n",
       "      <td>4.2500</td>\n",
       "      <td>16321.0000</td>\n",
       "      <td>Australia</td>\n",
       "    </tr>\n",
       "    <tr>\n",
       "      <th>181</th>\n",
       "      <td>C489449</td>\n",
       "      <td>21896</td>\n",
       "      <td>POTTING SHED TWINE</td>\n",
       "      <td>-6</td>\n",
       "      <td>2009-12-01 10:33:00</td>\n",
       "      <td>2.1000</td>\n",
       "      <td>16321.0000</td>\n",
       "      <td>Australia</td>\n",
       "    </tr>\n",
       "    <tr>\n",
       "      <th>182</th>\n",
       "      <td>C489449</td>\n",
       "      <td>22083</td>\n",
       "      <td>PAPER CHAIN KIT RETRO SPOT</td>\n",
       "      <td>-12</td>\n",
       "      <td>2009-12-01 10:33:00</td>\n",
       "      <td>2.9500</td>\n",
       "      <td>16321.0000</td>\n",
       "      <td>Australia</td>\n",
       "    </tr>\n",
       "  </tbody>\n",
       "</table>\n",
       "</div>"
      ],
      "text/plain": [
       "     Invoice StockCode                    Description  Quantity  \\\n",
       "178  C489449     22087       PAPER BUNTING WHITE LACE       -12   \n",
       "179  C489449    85206A   CREAM FELT EASTER EGG BASKET        -6   \n",
       "180  C489449     21895  POTTING SHED SOW 'N' GROW SET        -4   \n",
       "181  C489449     21896             POTTING SHED TWINE        -6   \n",
       "182  C489449     22083     PAPER CHAIN KIT RETRO SPOT       -12   \n",
       "\n",
       "            InvoiceDate  Price  Customer ID    Country  \n",
       "178 2009-12-01 10:33:00 2.9500   16321.0000  Australia  \n",
       "179 2009-12-01 10:33:00 1.6500   16321.0000  Australia  \n",
       "180 2009-12-01 10:33:00 4.2500   16321.0000  Australia  \n",
       "181 2009-12-01 10:33:00 2.1000   16321.0000  Australia  \n",
       "182 2009-12-01 10:33:00 2.9500   16321.0000  Australia  "
      ]
     },
     "execution_count": 9,
     "metadata": {},
     "output_type": "execute_result"
    }
   ],
   "source": [
    "# Using regex to find rows of Invoice that do not have 6 digits\n",
    "df[df['Invoice'].str.match(\"^\\\\d{6}$\") == False].head()"
   ]
  },
  {
   "cell_type": "code",
   "execution_count": 10,
   "id": "fe00f50b",
   "metadata": {},
   "outputs": [
    {
     "data": {
      "text/plain": [
       "Invoice\n",
       "     515252\n",
       "C     10206\n",
       "A         3\n",
       "Name: count, dtype: int64"
      ]
     },
     "execution_count": 10,
     "metadata": {},
     "output_type": "execute_result"
    }
   ],
   "source": [
    "# Removing all numbers from the Invoice leaving us with letters and empty string\n",
    "df['Invoice'] = df['Invoice'].astype(str)\n",
    "df['Invoice'].str.replace(\"[0-9]\", \"\", regex=True).value_counts()"
   ]
  },
  {
   "cell_type": "code",
   "execution_count": 11,
   "id": "680bb5e9",
   "metadata": {},
   "outputs": [
    {
     "data": {
      "text/html": [
       "<div>\n",
       "<style scoped>\n",
       "    .dataframe tbody tr th:only-of-type {\n",
       "        vertical-align: middle;\n",
       "    }\n",
       "\n",
       "    .dataframe tbody tr th {\n",
       "        vertical-align: top;\n",
       "    }\n",
       "\n",
       "    .dataframe thead th {\n",
       "        text-align: right;\n",
       "    }\n",
       "</style>\n",
       "<table border=\"1\" class=\"dataframe\">\n",
       "  <thead>\n",
       "    <tr style=\"text-align: right;\">\n",
       "      <th></th>\n",
       "      <th>Invoice</th>\n",
       "      <th>StockCode</th>\n",
       "      <th>Description</th>\n",
       "      <th>Quantity</th>\n",
       "      <th>InvoiceDate</th>\n",
       "      <th>Price</th>\n",
       "      <th>Customer ID</th>\n",
       "      <th>Country</th>\n",
       "    </tr>\n",
       "  </thead>\n",
       "  <tbody>\n",
       "    <tr>\n",
       "      <th>179403</th>\n",
       "      <td>A506401</td>\n",
       "      <td>B</td>\n",
       "      <td>Adjust bad debt</td>\n",
       "      <td>1</td>\n",
       "      <td>2010-04-29 13:36:00</td>\n",
       "      <td>-53594.3600</td>\n",
       "      <td>NaN</td>\n",
       "      <td>United Kingdom</td>\n",
       "    </tr>\n",
       "    <tr>\n",
       "      <th>276274</th>\n",
       "      <td>A516228</td>\n",
       "      <td>B</td>\n",
       "      <td>Adjust bad debt</td>\n",
       "      <td>1</td>\n",
       "      <td>2010-07-19 11:24:00</td>\n",
       "      <td>-44031.7900</td>\n",
       "      <td>NaN</td>\n",
       "      <td>United Kingdom</td>\n",
       "    </tr>\n",
       "    <tr>\n",
       "      <th>403472</th>\n",
       "      <td>A528059</td>\n",
       "      <td>B</td>\n",
       "      <td>Adjust bad debt</td>\n",
       "      <td>1</td>\n",
       "      <td>2010-10-20 12:04:00</td>\n",
       "      <td>-38925.8700</td>\n",
       "      <td>NaN</td>\n",
       "      <td>United Kingdom</td>\n",
       "    </tr>\n",
       "  </tbody>\n",
       "</table>\n",
       "</div>"
      ],
      "text/plain": [
       "        Invoice StockCode      Description  Quantity         InvoiceDate  \\\n",
       "179403  A506401         B  Adjust bad debt         1 2010-04-29 13:36:00   \n",
       "276274  A516228         B  Adjust bad debt         1 2010-07-19 11:24:00   \n",
       "403472  A528059         B  Adjust bad debt         1 2010-10-20 12:04:00   \n",
       "\n",
       "             Price  Customer ID         Country  \n",
       "179403 -53594.3600          NaN  United Kingdom  \n",
       "276274 -44031.7900          NaN  United Kingdom  \n",
       "403472 -38925.8700          NaN  United Kingdom  "
      ]
     },
     "execution_count": 11,
     "metadata": {},
     "output_type": "execute_result"
    }
   ],
   "source": [
    "# Checking how many of the Invoice id starts with A\n",
    "df[df[\"Invoice\"].str.startswith(\"A\")]"
   ]
  },
  {
   "cell_type": "code",
   "execution_count": 12,
   "id": "4f85b1c5",
   "metadata": {},
   "outputs": [
    {
     "data": {
      "text/plain": [
       "array(['POST', 'D', 'DCGS0058', 'DCGS0068', 'DOT', 'M', 'DCGS0004',\n",
       "       'DCGS0076', 'C2', 'BANK CHARGES', 'DCGS0003', 'TEST001',\n",
       "       'gift_0001_80', 'DCGS0072', 'gift_0001_20', 'DCGS0044', 'TEST002',\n",
       "       'gift_0001_10', 'gift_0001_50', 'DCGS0066N', 'gift_0001_30',\n",
       "       'PADS', 'ADJUST', 'gift_0001_40', 'gift_0001_60', 'gift_0001_70',\n",
       "       'gift_0001_90', 'DCGSSGIRL', 'DCGS0006', 'DCGS0016', 'DCGS0027',\n",
       "       'DCGS0036', 'DCGS0039', 'DCGS0060', 'DCGS0056', 'DCGS0059', 'GIFT',\n",
       "       'DCGSLBOY', 'm', 'DCGS0053', 'DCGS0062', 'DCGS0037', 'DCGSSBOY',\n",
       "       'DCGSLGIRL', 'S', 'DCGS0069', 'DCGS0070', 'DCGS0075', 'B',\n",
       "       'DCGS0041', 'ADJUST2', '47503J ', 'C3', 'SP1002', 'AMAZONFEE'],\n",
       "      dtype=object)"
      ]
     },
     "execution_count": 12,
     "metadata": {},
     "output_type": "execute_result"
    }
   ],
   "source": [
    "# casting StockCode column to string type\n",
    "df['StockCode'] = df['StockCode'].astype('str')\n",
    "\n",
    "# using regex to find where rows of the StockCode doesn't match 5 digit\n",
    "# and also contains other numbers and letters that are repeated\n",
    "(df[(df['StockCode'].str.match('^\\\\d{5}$') == False) & \n",
    "    (df['StockCode'].str.match('^\\\\d{5}[a-zA-z]+$') == False)]['StockCode'].unique()\n",
    ")"
   ]
  },
  {
   "cell_type": "markdown",
   "id": "9b64a596",
   "metadata": {},
   "source": [
    "From the above data exploration on rows with negative quantity values, it was observed that most of them contain invoice id that starts with C which indicates cancellation as described in the data description section. Invoices that starts with the letter \"A\" has price value has negative and missing Customer_Id. Stock code that do not have 5 digits would also be filtered out."
   ]
  },
  {
   "cell_type": "code",
   "execution_count": null,
   "id": "a4548f77",
   "metadata": {},
   "outputs": [],
   "source": [
    "# Creating a wrangle function\n",
    "def wrangle(filepath:str):\n",
    "    # Read file into dataframe\n",
    "    df = pd.read_excel(filepath, sheet_name=0)\n",
    "\n",
    "    # get only invoice number with 6-digits\n",
    "    df['Invoice'] = df['Invoice'].astype('str')\n",
    "    masked = df['Invoice'].str.match('^\\\\d{6}$')\n",
    "    df = df[masked]\n",
    "\n",
    "    # get stock code with five-digit or five-digits followed by letter(s)\n",
    "    df['StockCode'] = df['StockCode'].astype('str')\n",
    "    masked_stockcode = (\n",
    "        (df['StockCode'].str.match(\"^\\\\d{5}$\")) |\n",
    "        (df['StockCode'].str.match(\"^\\\\d{5}[a-zA-Z]+$\"))\n",
    "    )\n",
    "\n",
    "    # drop Customer_id with null values\n",
    "    df.dropna(subset='Customer ID', inplace=True)\n",
    "\n",
    "    return df"
   ]
  }
 ],
 "metadata": {
  "kernelspec": {
   "display_name": "base",
   "language": "python",
   "name": "python3"
  },
  "language_info": {
   "codemirror_mode": {
    "name": "ipython",
    "version": 3
   },
   "file_extension": ".py",
   "mimetype": "text/x-python",
   "name": "python",
   "nbconvert_exporter": "python",
   "pygments_lexer": "ipython3",
   "version": "3.11.7"
  }
 },
 "nbformat": 4,
 "nbformat_minor": 5
}
